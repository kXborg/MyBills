{
 "cells": [
  {
   "cell_type": "code",
   "execution_count": 1,
   "id": "1a78028a",
   "metadata": {},
   "outputs": [],
   "source": [
    "import streamlit_authenticator as stauth"
   ]
  },
  {
   "cell_type": "code",
   "execution_count": 2,
   "id": "a5a4f194",
   "metadata": {},
   "outputs": [],
   "source": [
    "hashed_passes = stauth.Hasher(['TLCM@2023']).generate()"
   ]
  },
  {
   "cell_type": "code",
   "execution_count": 3,
   "id": "e500b334",
   "metadata": {},
   "outputs": [
    {
     "data": {
      "text/plain": [
       "['$2b$12$P.0roqXhzB/K1wqOOl9uS.N7K0z2WXYdE0MHBI1KaA8dKlR31cTwW']"
      ]
     },
     "execution_count": 3,
     "metadata": {},
     "output_type": "execute_result"
    }
   ],
   "source": [
    "hashed_passes"
   ]
  },
  {
   "cell_type": "code",
   "execution_count": null,
   "id": "ff72c48f",
   "metadata": {},
   "outputs": [],
   "source": []
  }
 ],
 "metadata": {
  "kernelspec": {
   "display_name": "tlcm",
   "language": "python",
   "name": "tlcm"
  },
  "language_info": {
   "codemirror_mode": {
    "name": "ipython",
    "version": 3
   },
   "file_extension": ".py",
   "mimetype": "text/x-python",
   "name": "python",
   "nbconvert_exporter": "python",
   "pygments_lexer": "ipython3",
   "version": "3.10.9"
  }
 },
 "nbformat": 4,
 "nbformat_minor": 5
}
